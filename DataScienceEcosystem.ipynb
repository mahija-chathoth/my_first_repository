{
 "cells": [
  {
   "cell_type": "markdown",
   "id": "43fd9e87-dcd5-47ed-b933-b5a1faaa4443",
   "metadata": {},
   "source": [
    "# Data Science Tools and Ecosystem"
   ]
  },
  {
   "cell_type": "markdown",
   "id": "f9f164ae-cb65-4b85-8f46-42950e84b749",
   "metadata": {},
   "source": [
    "In this notebook, Data Science Tools and Ecosystem are summarized."
   ]
  },
  {
   "cell_type": "markdown",
   "id": "472a4d6d-ec30-4dd9-8144-95ae2e3b696e",
   "metadata": {},
   "source": [
    "__Objectives:__\n",
    "\n",
    "* List popular languages for Data Science\n",
    "* List Data science languages\n",
    "* List Python librarires"
   ]
  },
  {
   "cell_type": "markdown",
   "id": "b20dbdc7-e18d-4647-bb9c-bf746a9a621e",
   "metadata": {},
   "source": [
    "Some of the popular languages that Data Scientists use are:\n",
    "1. R\n",
    "2. SQL\n",
    "3. Python"
   ]
  },
  {
   "cell_type": "markdown",
   "id": "c076dc26-9dd0-467a-b387-9e838c227882",
   "metadata": {},
   "source": [
    "Some of the commonly used libraries used by Data Scientists include:\n",
    "1. Numpy\n",
    "2. Panda\n",
    "3. scikit-learn"
   ]
  },
  {
   "cell_type": "markdown",
   "id": "44d67d0e-46c3-4b30-a0ea-6823ceb6ae52",
   "metadata": {},
   "source": [
    "|Data Science Tools|\n",
    "|-----------------|\n",
    "|jupytor notebook|\n",
    "|RStudio|\n",
    "|Zeppelin notebook|"
   ]
  },
  {
   "cell_type": "markdown",
   "id": "cc2c63d1-37aa-4a99-8a88-eec29e0d7562",
   "metadata": {},
   "source": [
    "### Below are a few examples of evaluating arithmetic expressions in Python"
   ]
  },
  {
   "cell_type": "code",
   "execution_count": 7,
   "id": "f8b4eb4a-a5b5-4940-a7bf-72a696bf4a62",
   "metadata": {},
   "outputs": [
    {
     "data": {
      "text/plain": [
       "17"
      ]
     },
     "execution_count": 7,
     "metadata": {},
     "output_type": "execute_result"
    }
   ],
   "source": [
    "#This a simple arithmetic expression to mutiply then add integers\n",
    "(3*4)+5"
   ]
  },
  {
   "cell_type": "code",
   "execution_count": 9,
   "id": "828b3002-0521-41ab-a446-7513670225c2",
   "metadata": {},
   "outputs": [
    {
     "data": {
      "text/plain": [
       "3.3333333333333335"
      ]
     },
     "execution_count": 9,
     "metadata": {},
     "output_type": "execute_result"
    }
   ],
   "source": [
    "#This will convert 200 minutes to hours by diving by 60\n",
    "200/60"
   ]
  },
  {
   "cell_type": "markdown",
   "id": "199994b2-1d90-4045-823d-35aff8726748",
   "metadata": {},
   "source": [
    "## Author\n",
    "Mahija"
   ]
  },
  {
   "cell_type": "code",
   "execution_count": null,
   "id": "8ccde410-eba2-4f3a-9e2f-1291a9542678",
   "metadata": {},
   "outputs": [],
   "source": []
  }
 ],
 "metadata": {
  "kernelspec": {
   "display_name": "Python 3 (ipykernel)",
   "language": "python",
   "name": "python3"
  },
  "language_info": {
   "codemirror_mode": {
    "name": "ipython",
    "version": 3
   },
   "file_extension": ".py",
   "mimetype": "text/x-python",
   "name": "python",
   "nbconvert_exporter": "python",
   "pygments_lexer": "ipython3",
   "version": "3.12.4"
  }
 },
 "nbformat": 4,
 "nbformat_minor": 5
}
